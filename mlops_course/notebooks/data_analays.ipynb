{
 "cells": [
  {
   "cell_type": "code",
   "execution_count": 37,
   "id": "6458f592",
   "metadata": {},
   "outputs": [],
   "source": [
    "import pandas as pd\n",
    "import numpy as np\n",
    "import warnings\n",
    "warnings.filterwarnings(\"ignore\")"
   ]
  },
  {
   "cell_type": "code",
   "execution_count": 79,
   "id": "4105513a",
   "metadata": {},
   "outputs": [
    {
     "data": {
      "text/plain": [
       "Index(['price', 'date', 'time', 'geo_lat', 'geo_lon', 'region',\n",
       "       'building_type', 'level', 'levels', 'rooms', 'area', 'kitchen_area',\n",
       "       'object_type'],\n",
       "      dtype='object')"
      ]
     },
     "execution_count": 79,
     "metadata": {},
     "output_type": "execute_result"
    }
   ],
   "source": [
    "df = pd.read_csv(\"../data/raw/all_v2.csv\")\n",
    "df.columns"
   ]
  },
  {
   "cell_type": "code",
   "execution_count": 53,
   "id": "582e47d1",
   "metadata": {},
   "outputs": [
    {
     "data": {
      "text/plain": [
       "(5477006, 13)"
      ]
     },
     "execution_count": 53,
     "metadata": {},
     "output_type": "execute_result"
    }
   ],
   "source": [
    "df.shape"
   ]
  },
  {
   "cell_type": "code",
   "execution_count": 80,
   "id": "d8ebbf1f",
   "metadata": {},
   "outputs": [],
   "source": [
    "REGION_ID = 2661"
   ]
  },
  {
   "cell_type": "code",
   "execution_count": 82,
   "id": "3205ffe4",
   "metadata": {},
   "outputs": [],
   "source": [
    "def select_region(df) -> pd.DataFrame:\n",
    "    \"\"\"\n",
    "    Function selects the listings belonging to a specified city.\n",
    "    :param input_path:\n",
    "    :param output_path:\n",
    "    :param region:\n",
    "    :return:\n",
    "    \"\"\"\n",
    "    df = df[df['region'] == REGION_ID]\n",
    "    df.drop('region', axis=1, inplace=True)\n",
    "    print(f'Selected {len(df)} samples in region {REGION_ID}.')\n",
    "\n",
    "    return df"
   ]
  },
  {
   "cell_type": "code",
   "execution_count": 83,
   "id": "7d396b88",
   "metadata": {},
   "outputs": [
    {
     "name": "stdout",
     "output_type": "stream",
     "text": [
      "Selected 461820 samples in region 2661.\n"
     ]
    }
   ],
   "source": [
    "df = select_region(df)"
   ]
  },
  {
   "cell_type": "code",
   "execution_count": 84,
   "id": "d58f56fd",
   "metadata": {},
   "outputs": [
    {
     "data": {
      "text/html": [
       "<div>\n",
       "<style scoped>\n",
       "    .dataframe tbody tr th:only-of-type {\n",
       "        vertical-align: middle;\n",
       "    }\n",
       "\n",
       "    .dataframe tbody tr th {\n",
       "        vertical-align: top;\n",
       "    }\n",
       "\n",
       "    .dataframe thead th {\n",
       "        text-align: right;\n",
       "    }\n",
       "</style>\n",
       "<table border=\"1\" class=\"dataframe\">\n",
       "  <thead>\n",
       "    <tr style=\"text-align: right;\">\n",
       "      <th></th>\n",
       "      <th>price</th>\n",
       "      <th>date</th>\n",
       "      <th>time</th>\n",
       "      <th>geo_lat</th>\n",
       "      <th>geo_lon</th>\n",
       "      <th>building_type</th>\n",
       "      <th>level</th>\n",
       "      <th>levels</th>\n",
       "      <th>rooms</th>\n",
       "      <th>area</th>\n",
       "      <th>kitchen_area</th>\n",
       "      <th>object_type</th>\n",
       "    </tr>\n",
       "  </thead>\n",
       "  <tbody>\n",
       "    <tr>\n",
       "      <th>0</th>\n",
       "      <td>6050000</td>\n",
       "      <td>2018-02-19</td>\n",
       "      <td>20:00:21</td>\n",
       "      <td>59.805808</td>\n",
       "      <td>30.376141</td>\n",
       "      <td>1</td>\n",
       "      <td>8</td>\n",
       "      <td>10</td>\n",
       "      <td>3</td>\n",
       "      <td>82.6</td>\n",
       "      <td>10.8</td>\n",
       "      <td>1</td>\n",
       "    </tr>\n",
       "    <tr>\n",
       "      <th>7</th>\n",
       "      <td>3600000</td>\n",
       "      <td>2018-03-04</td>\n",
       "      <td>20:52:38</td>\n",
       "      <td>59.875526</td>\n",
       "      <td>30.395457</td>\n",
       "      <td>1</td>\n",
       "      <td>2</td>\n",
       "      <td>5</td>\n",
       "      <td>1</td>\n",
       "      <td>31.1</td>\n",
       "      <td>6.0</td>\n",
       "      <td>1</td>\n",
       "    </tr>\n",
       "  </tbody>\n",
       "</table>\n",
       "</div>"
      ],
      "text/plain": [
       "     price        date      time    geo_lat    geo_lon  building_type  level  \\\n",
       "0  6050000  2018-02-19  20:00:21  59.805808  30.376141              1      8   \n",
       "7  3600000  2018-03-04  20:52:38  59.875526  30.395457              1      2   \n",
       "\n",
       "   levels  rooms  area  kitchen_area  object_type  \n",
       "0      10      3  82.6          10.8            1  \n",
       "7       5      1  31.1           6.0            1  "
      ]
     },
     "execution_count": 84,
     "metadata": {},
     "output_type": "execute_result"
    }
   ],
   "source": [
    "df.head(2)"
   ]
  },
  {
   "cell_type": "code",
   "execution_count": 89,
   "id": "2f46b200",
   "metadata": {},
   "outputs": [
    {
     "data": {
      "text/html": [
       "<div>\n",
       "<style scoped>\n",
       "    .dataframe tbody tr th:only-of-type {\n",
       "        vertical-align: middle;\n",
       "    }\n",
       "\n",
       "    .dataframe tbody tr th {\n",
       "        vertical-align: top;\n",
       "    }\n",
       "\n",
       "    .dataframe thead th {\n",
       "        text-align: right;\n",
       "    }\n",
       "</style>\n",
       "<table border=\"1\" class=\"dataframe\">\n",
       "  <thead>\n",
       "    <tr style=\"text-align: right;\">\n",
       "      <th></th>\n",
       "      <th>price</th>\n",
       "      <th>geo_lat</th>\n",
       "      <th>geo_lon</th>\n",
       "      <th>building_type</th>\n",
       "      <th>level</th>\n",
       "      <th>levels</th>\n",
       "      <th>rooms</th>\n",
       "      <th>area</th>\n",
       "      <th>kitchen_area</th>\n",
       "      <th>object_type</th>\n",
       "    </tr>\n",
       "  </thead>\n",
       "  <tbody>\n",
       "    <tr>\n",
       "      <th>count</th>\n",
       "      <td>4.618200e+05</td>\n",
       "      <td>461820.000000</td>\n",
       "      <td>461820.000000</td>\n",
       "      <td>461820.000000</td>\n",
       "      <td>461820.000000</td>\n",
       "      <td>461820.000000</td>\n",
       "      <td>461820.000000</td>\n",
       "      <td>461820.000000</td>\n",
       "      <td>461820.000000</td>\n",
       "      <td>461820.000000</td>\n",
       "    </tr>\n",
       "    <tr>\n",
       "      <th>mean</th>\n",
       "      <td>8.292682e+06</td>\n",
       "      <td>59.932848</td>\n",
       "      <td>30.319601</td>\n",
       "      <td>1.948281</td>\n",
       "      <td>7.582619</td>\n",
       "      <td>14.336625</td>\n",
       "      <td>1.829986</td>\n",
       "      <td>58.582237</td>\n",
       "      <td>12.749967</td>\n",
       "      <td>5.271231</td>\n",
       "    </tr>\n",
       "    <tr>\n",
       "      <th>std</th>\n",
       "      <td>1.411196e+07</td>\n",
       "      <td>0.084615</td>\n",
       "      <td>0.120120</td>\n",
       "      <td>0.954559</td>\n",
       "      <td>5.694418</td>\n",
       "      <td>7.073714</td>\n",
       "      <td>1.014648</td>\n",
       "      <td>42.138205</td>\n",
       "      <td>7.641011</td>\n",
       "      <td>4.946610</td>\n",
       "    </tr>\n",
       "    <tr>\n",
       "      <th>min</th>\n",
       "      <td>0.000000e+00</td>\n",
       "      <td>59.647383</td>\n",
       "      <td>29.509349</td>\n",
       "      <td>0.000000</td>\n",
       "      <td>1.000000</td>\n",
       "      <td>1.000000</td>\n",
       "      <td>0.000000</td>\n",
       "      <td>1.400000</td>\n",
       "      <td>0.020000</td>\n",
       "      <td>1.000000</td>\n",
       "    </tr>\n",
       "    <tr>\n",
       "      <th>25%</th>\n",
       "      <td>4.400000e+06</td>\n",
       "      <td>59.863518</td>\n",
       "      <td>30.256876</td>\n",
       "      <td>1.000000</td>\n",
       "      <td>3.000000</td>\n",
       "      <td>9.000000</td>\n",
       "      <td>1.000000</td>\n",
       "      <td>37.600000</td>\n",
       "      <td>8.500000</td>\n",
       "      <td>1.000000</td>\n",
       "    </tr>\n",
       "    <tr>\n",
       "      <th>50%</th>\n",
       "      <td>5.950000e+06</td>\n",
       "      <td>59.939084</td>\n",
       "      <td>30.324338</td>\n",
       "      <td>2.000000</td>\n",
       "      <td>6.000000</td>\n",
       "      <td>13.000000</td>\n",
       "      <td>2.000000</td>\n",
       "      <td>51.000000</td>\n",
       "      <td>11.100000</td>\n",
       "      <td>1.000000</td>\n",
       "    </tr>\n",
       "    <tr>\n",
       "      <th>75%</th>\n",
       "      <td>8.800000e+06</td>\n",
       "      <td>59.999287</td>\n",
       "      <td>30.397938</td>\n",
       "      <td>3.000000</td>\n",
       "      <td>11.000000</td>\n",
       "      <td>20.000000</td>\n",
       "      <td>2.000000</td>\n",
       "      <td>69.000000</td>\n",
       "      <td>15.150000</td>\n",
       "      <td>11.000000</td>\n",
       "    </tr>\n",
       "    <tr>\n",
       "      <th>max</th>\n",
       "      <td>1.945383e+09</td>\n",
       "      <td>60.241984</td>\n",
       "      <td>30.711428</td>\n",
       "      <td>5.000000</td>\n",
       "      <td>35.000000</td>\n",
       "      <td>38.000000</td>\n",
       "      <td>9.000000</td>\n",
       "      <td>7856.000000</td>\n",
       "      <td>1272.000000</td>\n",
       "      <td>11.000000</td>\n",
       "    </tr>\n",
       "  </tbody>\n",
       "</table>\n",
       "</div>"
      ],
      "text/plain": [
       "              price        geo_lat        geo_lon  building_type  \\\n",
       "count  4.618200e+05  461820.000000  461820.000000  461820.000000   \n",
       "mean   8.292682e+06      59.932848      30.319601       1.948281   \n",
       "std    1.411196e+07       0.084615       0.120120       0.954559   \n",
       "min    0.000000e+00      59.647383      29.509349       0.000000   \n",
       "25%    4.400000e+06      59.863518      30.256876       1.000000   \n",
       "50%    5.950000e+06      59.939084      30.324338       2.000000   \n",
       "75%    8.800000e+06      59.999287      30.397938       3.000000   \n",
       "max    1.945383e+09      60.241984      30.711428       5.000000   \n",
       "\n",
       "               level         levels          rooms           area  \\\n",
       "count  461820.000000  461820.000000  461820.000000  461820.000000   \n",
       "mean        7.582619      14.336625       1.829986      58.582237   \n",
       "std         5.694418       7.073714       1.014648      42.138205   \n",
       "min         1.000000       1.000000       0.000000       1.400000   \n",
       "25%         3.000000       9.000000       1.000000      37.600000   \n",
       "50%         6.000000      13.000000       2.000000      51.000000   \n",
       "75%        11.000000      20.000000       2.000000      69.000000   \n",
       "max        35.000000      38.000000       9.000000    7856.000000   \n",
       "\n",
       "        kitchen_area    object_type  \n",
       "count  461820.000000  461820.000000  \n",
       "mean       12.749967       5.271231  \n",
       "std         7.641011       4.946610  \n",
       "min         0.020000       1.000000  \n",
       "25%         8.500000       1.000000  \n",
       "50%        11.100000       1.000000  \n",
       "75%        15.150000      11.000000  \n",
       "max      1272.000000      11.000000  "
      ]
     },
     "execution_count": 89,
     "metadata": {},
     "output_type": "execute_result"
    }
   ],
   "source": [
    "df.describe()"
   ]
  },
  {
   "cell_type": "code",
   "execution_count": 92,
   "id": "6311cf30",
   "metadata": {},
   "outputs": [],
   "source": [
    "MIN_AREA = 15  # Outlier range for floor area\n",
    "MAX_AREA = 300\n",
    "MIN_AREA = 10\n",
    "MIN_KITCHEN = 3  # Outlier range for kitchen area\n",
    "MAX_KITCHEN = 70\n",
    "\n",
    "MIN_PRICE = 1_000_000  # Outlier range for price\n",
    "MAX_PRICE = 100_000_000\n",
    "\n",
    "\n",
    "def clean_data(df) -> pd.DataFrame:\n",
    "    \"\"\"Function removes excess columns and enforces\n",
    "    correct data types.\n",
    "    :param input_path: path to data\n",
    "    :param output_path: path to save data\n",
    "    :return: Updated DataFrame\n",
    "    \"\"\"\n",
    "    \n",
    "    df['date'] = pd.to_datetime(df['date'])\n",
    "    # Column actually contains -1 and -2 values presumably for studio apartments.\n",
    "    df['rooms'] = df['rooms'].apply(lambda x: 0 if x < 0 else x)\n",
    "    df['price'] = df['price'].abs()  # Fix negative values\n",
    "    # Drop price and area outliers.\n",
    "    df = df[(df['area'] <= MAX_AREA) & (df['area'] >= MIN_AREA)]\n",
    "    df = df[(df['price'] <= MAX_PRICE) & (df['price'] >= MIN_PRICE)]\n",
    "    # Fix kitchen area outliers.\n",
    "    # At first, replace all outliers with 0.\n",
    "    df.loc[(df['kitchen_area'] >= MAX_KITCHEN) | (df['kitchen_area'] <= MIN_KITCHEN), 'kitchen_area'] = 0\n",
    "    # Then calculate kitchen area based on the floor area, except for studios.\n",
    "    area_mean, kitchen_mean = df[['area', 'kitchen_area']].quantile(0.5)\n",
    "    kitchen_share = kitchen_mean / area_mean\n",
    "    df.loc[(df['kitchen_area'] == 0) & (df['rooms'] != 0), 'kitchen_area'] = \\\n",
    "        df.loc[(df['kitchen_area'] == 0) & (df['rooms'] != 0), 'area'] * kitchen_share\n",
    "\n",
    "    return df"
   ]
  },
  {
   "cell_type": "code",
   "execution_count": 93,
   "id": "18c62a49",
   "metadata": {},
   "outputs": [
    {
     "data": {
      "text/plain": [
       "(460155, 11)"
      ]
     },
     "execution_count": 93,
     "metadata": {},
     "output_type": "execute_result"
    }
   ],
   "source": [
    "df = clean_data(df)\n",
    "df.shape"
   ]
  },
  {
   "cell_type": "code",
   "execution_count": 94,
   "id": "5a032912",
   "metadata": {},
   "outputs": [],
   "source": [
    "def add_features(df: pd.DataFrame) -> pd.DataFrame:\n",
    "    # Replace \"date\" with numeric features for year and month.\n",
    "    df['year'] = df['date'].dt.year\n",
    "    df['month'] = df['date'].dt.month\n",
    "    df.drop('date', axis=1, inplace=True)\n",
    "    # Apartment floor in relation to total number of floors.\n",
    "    df['level_to_levels'] = df['level'] / df['levels']\n",
    "    # Average size of room in the apartment.\n",
    "    df['area_to_rooms'] = (df['area'] / df['rooms']).abs()\n",
    "    # Fix division by zero.\n",
    "    df.loc[df['area_to_rooms'] == np.inf, 'area_to_rooms'] = \\\n",
    "        df.loc[df['area_to_rooms'] == np.inf, 'area']\n",
    "    return df"
   ]
  },
  {
   "cell_type": "code",
   "execution_count": 95,
   "id": "4bd2f28f",
   "metadata": {},
   "outputs": [],
   "source": [
    "df = add_features(df)"
   ]
  },
  {
   "cell_type": "code",
   "execution_count": 96,
   "id": "240bcfae",
   "metadata": {},
   "outputs": [
    {
     "data": {
      "text/plain": [
       "(460155, 14)"
      ]
     },
     "execution_count": 96,
     "metadata": {},
     "output_type": "execute_result"
    }
   ],
   "source": [
    "df.shape"
   ]
  },
  {
   "cell_type": "code",
   "execution_count": null,
   "id": "4b70a4d6",
   "metadata": {},
   "outputs": [],
   "source": []
  }
 ],
 "metadata": {
  "kernelspec": {
   "display_name": "Python 3",
   "language": "python",
   "name": "python3"
  },
  "language_info": {
   "codemirror_mode": {
    "name": "ipython",
    "version": 3
   },
   "file_extension": ".py",
   "mimetype": "text/x-python",
   "name": "python",
   "nbconvert_exporter": "python",
   "pygments_lexer": "ipython3",
   "version": "3.8.5"
  }
 },
 "nbformat": 4,
 "nbformat_minor": 5
}
